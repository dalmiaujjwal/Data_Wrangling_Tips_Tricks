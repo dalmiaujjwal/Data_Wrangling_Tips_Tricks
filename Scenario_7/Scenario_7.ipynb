{
 "cells": [
  {
   "cell_type": "markdown",
   "metadata": {},
   "source": [
    "## Importing Pandas Library"
   ]
  },
  {
   "cell_type": "code",
   "execution_count": 1,
   "metadata": {},
   "outputs": [],
   "source": [
    "import pandas as pd"
   ]
  },
  {
   "cell_type": "markdown",
   "metadata": {},
   "source": [
    "## Reading & converting raw data in to DateTime format\n",
    "Change the Windows folder location as per your system "
   ]
  },
  {
   "cell_type": "code",
   "execution_count": 2,
   "metadata": {
    "scrolled": false
   },
   "outputs": [
    {
     "data": {
      "text/html": [
       "<div>\n",
       "<style scoped>\n",
       "    .dataframe tbody tr th:only-of-type {\n",
       "        vertical-align: middle;\n",
       "    }\n",
       "\n",
       "    .dataframe tbody tr th {\n",
       "        vertical-align: top;\n",
       "    }\n",
       "\n",
       "    .dataframe thead th {\n",
       "        text-align: right;\n",
       "    }\n",
       "</style>\n",
       "<table border=\"1\" class=\"dataframe\">\n",
       "  <thead>\n",
       "    <tr style=\"text-align: right;\">\n",
       "      <th></th>\n",
       "      <th>Combined_date</th>\n",
       "      <th>Original_date</th>\n",
       "      <th>release_date_int</th>\n",
       "      <th>release_date_text</th>\n",
       "    </tr>\n",
       "  </thead>\n",
       "  <tbody>\n",
       "    <tr>\n",
       "      <th>0</th>\n",
       "      <td>2019-03-17</td>\n",
       "      <td>NaT</td>\n",
       "      <td>2019-03-17</td>\n",
       "      <td>2019-03-17</td>\n",
       "    </tr>\n",
       "    <tr>\n",
       "      <th>1</th>\n",
       "      <td>2004-08-06</td>\n",
       "      <td>2004-08-06</td>\n",
       "      <td>2004-08-06</td>\n",
       "      <td>2004-08-06</td>\n",
       "    </tr>\n",
       "    <tr>\n",
       "      <th>2</th>\n",
       "      <td>2014-10-10</td>\n",
       "      <td>2014-10-10</td>\n",
       "      <td>2014-10-10</td>\n",
       "      <td>2014-10-10</td>\n",
       "    </tr>\n",
       "    <tr>\n",
       "      <th>3</th>\n",
       "      <td>2012-03-09</td>\n",
       "      <td>2012-03-09</td>\n",
       "      <td>2012-03-09</td>\n",
       "      <td>2012-03-09</td>\n",
       "    </tr>\n",
       "    <tr>\n",
       "      <th>4</th>\n",
       "      <td>2009-02-05</td>\n",
       "      <td>2009-02-05</td>\n",
       "      <td>2009-02-05</td>\n",
       "      <td>2009-02-05</td>\n",
       "    </tr>\n",
       "  </tbody>\n",
       "</table>\n",
       "</div>"
      ],
      "text/plain": [
       "  Combined_date Original_date release_date_int release_date_text\n",
       "0    2019-03-17           NaT       2019-03-17        2019-03-17\n",
       "1    2004-08-06    2004-08-06       2004-08-06        2004-08-06\n",
       "2    2014-10-10    2014-10-10       2014-10-10        2014-10-10\n",
       "3    2012-03-09    2012-03-09       2012-03-09        2012-03-09\n",
       "4    2009-02-05    2009-02-05       2009-02-05        2009-02-05"
      ]
     },
     "execution_count": 2,
     "metadata": {},
     "output_type": "execute_result"
    }
   ],
   "source": [
    "#### Reading and creating date columns\n",
    "imp_data = pd.read_csv(\"C:\\\\Ujjwal\\\\Analytics\\\\Git\\\\Scenario_7\\\\Date_Dataset.csv\", \n",
    "                       parse_dates= {\"Combined_date\":[\"year\", \"month\", \"day\"], \"Original_date\":[\"release_date\"]})\n",
    "imp_data[\"release_date_text\"] = pd.to_datetime(imp_data[\"release_date_text\"], format=\"%Y#%d#%m\")\n",
    "imp_data[\"release_date_int\"] = pd.to_datetime(imp_data[\"release_date_int\"], format=\"%Y%m%d\")\n",
    "imp_data.head()"
   ]
  },
  {
   "cell_type": "markdown",
   "metadata": {},
   "source": [
    "## Create a new column containing dates n days/ month/ year ahead of the existing one"
   ]
  },
  {
   "cell_type": "code",
   "execution_count": 3,
   "metadata": {
    "scrolled": true
   },
   "outputs": [
    {
     "data": {
      "text/plain": [
       "0   2019-03-17\n",
       "1   2004-08-06\n",
       "2   2014-10-10\n",
       "3   2012-03-09\n",
       "4   2009-02-05\n",
       "Name: release_date_text, dtype: datetime64[ns]"
      ]
     },
     "execution_count": 3,
     "metadata": {},
     "output_type": "execute_result"
    }
   ],
   "source": [
    "#### Existing date values\n",
    "imp_data[\"release_date_text\"].head()"
   ]
  },
  {
   "cell_type": "code",
   "execution_count": 4,
   "metadata": {},
   "outputs": [
    {
     "data": {
      "text/html": [
       "<div>\n",
       "<style scoped>\n",
       "    .dataframe tbody tr th:only-of-type {\n",
       "        vertical-align: middle;\n",
       "    }\n",
       "\n",
       "    .dataframe tbody tr th {\n",
       "        vertical-align: top;\n",
       "    }\n",
       "\n",
       "    .dataframe thead th {\n",
       "        text-align: right;\n",
       "    }\n",
       "</style>\n",
       "<table border=\"1\" class=\"dataframe\">\n",
       "  <thead>\n",
       "    <tr style=\"text-align: right;\">\n",
       "      <th></th>\n",
       "      <th>release_date_text</th>\n",
       "      <th>release_date_text_7daysplus</th>\n",
       "    </tr>\n",
       "  </thead>\n",
       "  <tbody>\n",
       "    <tr>\n",
       "      <th>0</th>\n",
       "      <td>2019-03-17</td>\n",
       "      <td>2019-03-24</td>\n",
       "    </tr>\n",
       "    <tr>\n",
       "      <th>1</th>\n",
       "      <td>2004-08-06</td>\n",
       "      <td>2004-08-13</td>\n",
       "    </tr>\n",
       "    <tr>\n",
       "      <th>2</th>\n",
       "      <td>2014-10-10</td>\n",
       "      <td>2014-10-17</td>\n",
       "    </tr>\n",
       "    <tr>\n",
       "      <th>3</th>\n",
       "      <td>2012-03-09</td>\n",
       "      <td>2012-03-16</td>\n",
       "    </tr>\n",
       "    <tr>\n",
       "      <th>4</th>\n",
       "      <td>2009-02-05</td>\n",
       "      <td>2009-02-12</td>\n",
       "    </tr>\n",
       "  </tbody>\n",
       "</table>\n",
       "</div>"
      ],
      "text/plain": [
       "  release_date_text release_date_text_7daysplus\n",
       "0        2019-03-17                  2019-03-24\n",
       "1        2004-08-06                  2004-08-13\n",
       "2        2014-10-10                  2014-10-17\n",
       "3        2012-03-09                  2012-03-16\n",
       "4        2009-02-05                  2009-02-12"
      ]
     },
     "execution_count": 4,
     "metadata": {},
     "output_type": "execute_result"
    }
   ],
   "source": [
    "#### Creating a new column 7 days ahead \n",
    "imp_data[\"release_date_text_7daysplus\"] = imp_data[\"release_date_text\"] + pd.DateOffset(days=7)\n",
    "imp_data[[\"release_date_text\",\"release_date_text_7daysplus\"]].head()"
   ]
  },
  {
   "cell_type": "markdown",
   "metadata": {},
   "source": [
    "## Extracting various components of date columns"
   ]
  },
  {
   "cell_type": "code",
   "execution_count": 5,
   "metadata": {},
   "outputs": [
    {
     "data": {
      "text/plain": [
       "0    6\n",
       "1    4\n",
       "2    4\n",
       "3    4\n",
       "4    3\n",
       "Name: Weekdays, dtype: int64"
      ]
     },
     "execution_count": 5,
     "metadata": {},
     "output_type": "execute_result"
    }
   ],
   "source": [
    "#### Extracting Weekdays \n",
    "imp_data[\"Weekdays\"] = imp_data[\"release_date_int\"].dt.dayofweek\n",
    "imp_data[\"Weekdays\"].head()"
   ]
  },
  {
   "cell_type": "code",
   "execution_count": 6,
   "metadata": {},
   "outputs": [
    {
     "data": {
      "text/plain": [
       "0    2019\n",
       "1    2004\n",
       "2    2014\n",
       "Name: year, dtype: int64"
      ]
     },
     "execution_count": 6,
     "metadata": {},
     "output_type": "execute_result"
    }
   ],
   "source": [
    "#### Extracting year \n",
    "imp_data[\"year\"] = imp_data[\"release_date_int\"].dt.year\n",
    "imp_data[\"year\"].head(3)"
   ]
  },
  {
   "cell_type": "markdown",
   "metadata": {},
   "source": [
    "## Finding date differences or using logical operations on 2 different date columns"
   ]
  },
  {
   "cell_type": "code",
   "execution_count": 7,
   "metadata": {
    "scrolled": true
   },
   "outputs": [
    {
     "data": {
      "text/plain": [
       "0   7 days\n",
       "1   7 days\n",
       "2   7 days\n",
       "3   7 days\n",
       "4   7 days\n",
       "Name: days_difference, dtype: timedelta64[ns]"
      ]
     },
     "execution_count": 7,
     "metadata": {},
     "output_type": "execute_result"
    }
   ],
   "source": [
    "#### Finding difference between 2 dates\n",
    "imp_data[\"days_difference\"] = imp_data[\"release_date_text_7daysplus\"] - imp_data[\"release_date_text\"]\n",
    "imp_data[\"days_difference\"].head()"
   ]
  },
  {
   "cell_type": "code",
   "execution_count": 8,
   "metadata": {},
   "outputs": [
    {
     "data": {
      "text/plain": [
       "0    True\n",
       "1    True\n",
       "2    True\n",
       "3    True\n",
       "4    True\n",
       "Name: Is_bigger, dtype: bool"
      ]
     },
     "execution_count": 8,
     "metadata": {},
     "output_type": "execute_result"
    }
   ],
   "source": [
    "#### Comparing Dates\n",
    "imp_data[\"Is_bigger\"] = imp_data[\"release_date_text_7daysplus\"] > imp_data[\"release_date_text\"]\n",
    "imp_data[\"Is_bigger\"].head()"
   ]
  },
  {
   "cell_type": "markdown",
   "metadata": {},
   "source": [
    "## Manually correcting date in a dataframe cell "
   ]
  },
  {
   "cell_type": "code",
   "execution_count": 9,
   "metadata": {},
   "outputs": [
    {
     "data": {
      "text/plain": [
       "0          NaT\n",
       "1   2004-08-06\n",
       "2   2014-10-10\n",
       "3   2012-03-09\n",
       "4   2009-02-05\n",
       "Name: Original_date, dtype: datetime64[ns]"
      ]
     },
     "execution_count": 9,
     "metadata": {},
     "output_type": "execute_result"
    }
   ],
   "source": [
    "#### Original_Date\n",
    "imp_data[\"Original_date\"].head()"
   ]
  },
  {
   "cell_type": "code",
   "execution_count": 10,
   "metadata": {
    "scrolled": true
   },
   "outputs": [
    {
     "data": {
      "text/plain": [
       "0   2020-03-17\n",
       "1   2004-08-06\n",
       "2   2014-10-10\n",
       "3   2012-03-09\n",
       "4   2009-02-05\n",
       "Name: Original_date, dtype: datetime64[ns]"
      ]
     },
     "execution_count": 10,
     "metadata": {},
     "output_type": "execute_result"
    }
   ],
   "source": [
    "#### The null value in the first cell of the column is replaced with a correct date\n",
    "imp_data.loc[0,\"Original_date\"] = pd.to_datetime(\"2020-03-17\", format=\"%Y-%m-%d\")\n",
    "imp_data[\"Original_date\"].head()"
   ]
  },
  {
   "cell_type": "markdown",
   "metadata": {},
   "source": [
    "## Explanation\n",
    "- We have used **the to_datetime** function (explained in the previous tutorial) to feed a date to the null column of the **Original_date** column."
   ]
  }
 ],
 "metadata": {
  "kernelspec": {
   "display_name": "Python 3",
   "language": "python",
   "name": "python3"
  },
  "language_info": {
   "codemirror_mode": {
    "name": "ipython",
    "version": 3
   },
   "file_extension": ".py",
   "mimetype": "text/x-python",
   "name": "python",
   "nbconvert_exporter": "python",
   "pygments_lexer": "ipython3",
   "version": "3.7.1"
  }
 },
 "nbformat": 4,
 "nbformat_minor": 4
}
