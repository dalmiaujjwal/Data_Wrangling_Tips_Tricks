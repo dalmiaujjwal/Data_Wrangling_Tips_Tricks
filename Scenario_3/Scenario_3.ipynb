{
 "cells": [
  {
   "cell_type": "markdown",
   "metadata": {},
   "source": [
    "## Importing Pandas Library"
   ]
  },
  {
   "cell_type": "code",
   "execution_count": 1,
   "metadata": {},
   "outputs": [],
   "source": [
    "import pandas as pd"
   ]
  },
  {
   "cell_type": "markdown",
   "metadata": {},
   "source": [
    "## Importing data file in the Python environment\n",
    "Change the Windows folder location as per your system "
   ]
  },
  {
   "cell_type": "code",
   "execution_count": 2,
   "metadata": {},
   "outputs": [
    {
     "data": {
      "text/html": [
       "<div>\n",
       "<style scoped>\n",
       "    .dataframe tbody tr th:only-of-type {\n",
       "        vertical-align: middle;\n",
       "    }\n",
       "\n",
       "    .dataframe tbody tr th {\n",
       "        vertical-align: top;\n",
       "    }\n",
       "\n",
       "    .dataframe thead th {\n",
       "        text-align: right;\n",
       "    }\n",
       "</style>\n",
       "<table border=\"1\" class=\"dataframe\">\n",
       "  <thead>\n",
       "    <tr style=\"text-align: right;\">\n",
       "      <th></th>\n",
       "      <th>Year</th>\n",
       "      <th>Month</th>\n",
       "      <th>Expense Category</th>\n",
       "      <th>Expense Value</th>\n",
       "    </tr>\n",
       "  </thead>\n",
       "  <tbody>\n",
       "    <tr>\n",
       "      <th>0</th>\n",
       "      <td>2018</td>\n",
       "      <td>Apr</td>\n",
       "      <td>Grocery</td>\n",
       "      <td>420</td>\n",
       "    </tr>\n",
       "    <tr>\n",
       "      <th>1</th>\n",
       "      <td>2018</td>\n",
       "      <td>Apr</td>\n",
       "      <td>Travel</td>\n",
       "      <td>300</td>\n",
       "    </tr>\n",
       "  </tbody>\n",
       "</table>\n",
       "</div>"
      ],
      "text/plain": [
       "   Year Month Expense Category  Expense Value\n",
       "0  2018   Apr          Grocery            420\n",
       "1  2018   Apr           Travel            300"
      ]
     },
     "execution_count": 2,
     "metadata": {},
     "output_type": "execute_result"
    }
   ],
   "source": [
    "#### Importing data\n",
    "imp_data = pd.read_csv(\"C:\\\\Ujjwal\\\\Analytics\\\\Git\\\\Scenario_3\\\\Expenses_Long.csv\")\n",
    "imp_data.head(2)"
   ]
  },
  {
   "cell_type": "markdown",
   "metadata": {},
   "source": [
    "## Creating Wide Form of the Expense Table - Without Aggregation"
   ]
  },
  {
   "cell_type": "code",
   "execution_count": 3,
   "metadata": {
    "scrolled": true
   },
   "outputs": [
    {
     "data": {
      "text/html": [
       "<div>\n",
       "<style scoped>\n",
       "    .dataframe tbody tr th:only-of-type {\n",
       "        vertical-align: middle;\n",
       "    }\n",
       "\n",
       "    .dataframe tbody tr th {\n",
       "        vertical-align: top;\n",
       "    }\n",
       "\n",
       "    .dataframe thead th {\n",
       "        text-align: right;\n",
       "    }\n",
       "</style>\n",
       "<table border=\"1\" class=\"dataframe\">\n",
       "  <thead>\n",
       "    <tr style=\"text-align: right;\">\n",
       "      <th>Month</th>\n",
       "      <th>Year</th>\n",
       "      <th>Expense Category</th>\n",
       "      <th>Apr</th>\n",
       "      <th>Aug</th>\n",
       "      <th>Dec</th>\n",
       "      <th>Feb</th>\n",
       "      <th>Jan</th>\n",
       "      <th>Jul</th>\n",
       "      <th>Jun</th>\n",
       "      <th>Mar</th>\n",
       "      <th>May</th>\n",
       "      <th>Nov</th>\n",
       "      <th>Oct</th>\n",
       "      <th>Sep</th>\n",
       "    </tr>\n",
       "  </thead>\n",
       "  <tbody>\n",
       "    <tr>\n",
       "      <th>0</th>\n",
       "      <td>2018</td>\n",
       "      <td>Entertainment</td>\n",
       "      <td>492</td>\n",
       "      <td>427</td>\n",
       "      <td>412</td>\n",
       "      <td>274</td>\n",
       "      <td>414</td>\n",
       "      <td>425</td>\n",
       "      <td>302</td>\n",
       "      <td>487</td>\n",
       "      <td>240</td>\n",
       "      <td>483</td>\n",
       "      <td>541</td>\n",
       "      <td>301</td>\n",
       "    </tr>\n",
       "    <tr>\n",
       "      <th>1</th>\n",
       "      <td>2018</td>\n",
       "      <td>Grocery</td>\n",
       "      <td>420</td>\n",
       "      <td>591</td>\n",
       "      <td>590</td>\n",
       "      <td>444</td>\n",
       "      <td>552</td>\n",
       "      <td>424</td>\n",
       "      <td>472</td>\n",
       "      <td>521</td>\n",
       "      <td>443</td>\n",
       "      <td>559</td>\n",
       "      <td>515</td>\n",
       "      <td>421</td>\n",
       "    </tr>\n",
       "    <tr>\n",
       "      <th>2</th>\n",
       "      <td>2018</td>\n",
       "      <td>Travel</td>\n",
       "      <td>300</td>\n",
       "      <td>314</td>\n",
       "      <td>455</td>\n",
       "      <td>458</td>\n",
       "      <td>321</td>\n",
       "      <td>419</td>\n",
       "      <td>371</td>\n",
       "      <td>332</td>\n",
       "      <td>309</td>\n",
       "      <td>325</td>\n",
       "      <td>429</td>\n",
       "      <td>431</td>\n",
       "    </tr>\n",
       "    <tr>\n",
       "      <th>3</th>\n",
       "      <td>2019</td>\n",
       "      <td>Entertainment</td>\n",
       "      <td>516</td>\n",
       "      <td>257</td>\n",
       "      <td>231</td>\n",
       "      <td>265</td>\n",
       "      <td>310</td>\n",
       "      <td>428</td>\n",
       "      <td>397</td>\n",
       "      <td>543</td>\n",
       "      <td>538</td>\n",
       "      <td>417</td>\n",
       "      <td>435</td>\n",
       "      <td>274</td>\n",
       "    </tr>\n",
       "    <tr>\n",
       "      <th>4</th>\n",
       "      <td>2019</td>\n",
       "      <td>Grocery</td>\n",
       "      <td>542</td>\n",
       "      <td>570</td>\n",
       "      <td>550</td>\n",
       "      <td>519</td>\n",
       "      <td>474</td>\n",
       "      <td>410</td>\n",
       "      <td>479</td>\n",
       "      <td>586</td>\n",
       "      <td>508</td>\n",
       "      <td>471</td>\n",
       "      <td>572</td>\n",
       "      <td>451</td>\n",
       "    </tr>\n",
       "  </tbody>\n",
       "</table>\n",
       "</div>"
      ],
      "text/plain": [
       "Month  Year Expense Category  Apr  Aug  Dec  Feb  Jan  Jul  Jun  Mar  May  \\\n",
       "0      2018    Entertainment  492  427  412  274  414  425  302  487  240   \n",
       "1      2018          Grocery  420  591  590  444  552  424  472  521  443   \n",
       "2      2018           Travel  300  314  455  458  321  419  371  332  309   \n",
       "3      2019    Entertainment  516  257  231  265  310  428  397  543  538   \n",
       "4      2019          Grocery  542  570  550  519  474  410  479  586  508   \n",
       "\n",
       "Month  Nov  Oct  Sep  \n",
       "0      483  541  301  \n",
       "1      559  515  421  \n",
       "2      325  429  431  \n",
       "3      417  435  274  \n",
       "4      471  572  451  "
      ]
     },
     "execution_count": 3,
     "metadata": {},
     "output_type": "execute_result"
    }
   ],
   "source": [
    "#### The expense values of each year and month are used as it is to create the wide data form\n",
    "Wide_data = pd.pivot_table(imp_data,index=[\"Year\",\"Expense Category\"], \n",
    "                           columns=\"Month\",\n",
    "                           values = \"Expense Value\").reset_index()\n",
    "Wide_data.head(5)"
   ]
  },
  {
   "cell_type": "markdown",
   "metadata": {},
   "source": [
    "## Creating Wide Form of the Expense Table - With Aggregation (use of aggfunc)"
   ]
  },
  {
   "cell_type": "code",
   "execution_count": 4,
   "metadata": {
    "scrolled": true
   },
   "outputs": [
    {
     "data": {
      "text/html": [
       "<div>\n",
       "<style scoped>\n",
       "    .dataframe tbody tr th:only-of-type {\n",
       "        vertical-align: middle;\n",
       "    }\n",
       "\n",
       "    .dataframe tbody tr th {\n",
       "        vertical-align: top;\n",
       "    }\n",
       "\n",
       "    .dataframe thead th {\n",
       "        text-align: right;\n",
       "    }\n",
       "</style>\n",
       "<table border=\"1\" class=\"dataframe\">\n",
       "  <thead>\n",
       "    <tr style=\"text-align: right;\">\n",
       "      <th>Expense Category</th>\n",
       "      <th>Year</th>\n",
       "      <th>Entertainment</th>\n",
       "      <th>Grocery</th>\n",
       "      <th>Travel</th>\n",
       "    </tr>\n",
       "  </thead>\n",
       "  <tbody>\n",
       "    <tr>\n",
       "      <th>0</th>\n",
       "      <td>2018</td>\n",
       "      <td>399.833333</td>\n",
       "      <td>496.000000</td>\n",
       "      <td>372.00</td>\n",
       "    </tr>\n",
       "    <tr>\n",
       "      <th>1</th>\n",
       "      <td>2019</td>\n",
       "      <td>384.250000</td>\n",
       "      <td>511.000000</td>\n",
       "      <td>424.00</td>\n",
       "    </tr>\n",
       "    <tr>\n",
       "      <th>2</th>\n",
       "      <td>2020</td>\n",
       "      <td>412.416667</td>\n",
       "      <td>483.833333</td>\n",
       "      <td>425.25</td>\n",
       "    </tr>\n",
       "  </tbody>\n",
       "</table>\n",
       "</div>"
      ],
      "text/plain": [
       "Expense Category  Year  Entertainment     Grocery  Travel\n",
       "0                 2018     399.833333  496.000000  372.00\n",
       "1                 2019     384.250000  511.000000  424.00\n",
       "2                 2020     412.416667  483.833333  425.25"
      ]
     },
     "execution_count": 4,
     "metadata": {},
     "output_type": "execute_result"
    }
   ],
   "source": [
    "#### Calculating the average expense per month in the year 2018, 2019 & 2020 across different expense categories\n",
    "Wide_data = pd.pivot_table(imp_data,index=\"Year\", \n",
    "                           columns=\"Expense Category\",\n",
    "                           values = \"Expense Value\", aggfunc = \"mean\").reset_index()\n",
    "Wide_data"
   ]
  },
  {
   "cell_type": "markdown",
   "metadata": {},
   "source": [
    "#### Explanation\n",
    "- Notice the use of parameter *aggfunc* to aggregate the expense values.\n",
    "- This argument expects us to pass the aggregate function like sum or mean. The aggregate function summarizes the values passed to the pivot_table function."
   ]
  }
 ],
 "metadata": {
  "kernelspec": {
   "display_name": "Python 3",
   "language": "python",
   "name": "python3"
  },
  "language_info": {
   "codemirror_mode": {
    "name": "ipython",
    "version": 3
   },
   "file_extension": ".py",
   "mimetype": "text/x-python",
   "name": "python",
   "nbconvert_exporter": "python",
   "pygments_lexer": "ipython3",
   "version": "3.7.1"
  }
 },
 "nbformat": 4,
 "nbformat_minor": 4
}
