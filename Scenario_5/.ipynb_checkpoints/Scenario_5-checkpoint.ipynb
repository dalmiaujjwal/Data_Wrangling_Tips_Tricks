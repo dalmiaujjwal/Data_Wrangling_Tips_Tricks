{
 "cells": [
  {
   "cell_type": "markdown",
   "metadata": {},
   "source": [
    "## Importing Pandas Library"
   ]
  },
  {
   "cell_type": "code",
   "execution_count": 1,
   "metadata": {},
   "outputs": [],
   "source": [
    "import pandas as pd"
   ]
  },
  {
   "cell_type": "markdown",
   "metadata": {},
   "source": [
    "## Reading the CSV file - Plain Vanilla Form\n",
    "Change the Windows folder location as per your system "
   ]
  },
  {
   "cell_type": "code",
   "execution_count": 2,
   "metadata": {
    "scrolled": false
   },
   "outputs": [
    {
     "name": "stdout",
     "output_type": "stream",
     "text": [
      "<class 'pandas.core.frame.DataFrame'>\n",
      "RangeIndex: 3000 entries, 0 to 2999\n",
      "Data columns (total 6 columns):\n",
      " #   Column             Non-Null Count  Dtype \n",
      "---  ------             --------------  ----- \n",
      " 0   release_date       2999 non-null   object\n",
      " 1   release_date_int   3000 non-null   int64 \n",
      " 2   release_date_text  3000 non-null   object\n",
      " 3   year               3000 non-null   int64 \n",
      " 4   month              3000 non-null   int64 \n",
      " 5   day                3000 non-null   int64 \n",
      "dtypes: int64(4), object(2)\n",
      "memory usage: 140.8+ KB\n"
     ]
    }
   ],
   "source": [
    "#### Importing Data - Date read as object\n",
    "imp_data = pd.read_csv(\"C:\\\\Ujjwal\\\\Analytics\\\\Git\\\\Scenario_5\\\\Date_Dataset.csv\")\n",
    "imp_data.info()"
   ]
  },
  {
   "cell_type": "markdown",
   "metadata": {},
   "source": [
    "## Reading the CSV file - Using parse_dates parameter\n",
    "Change the Windows folder location as per your system "
   ]
  },
  {
   "cell_type": "code",
   "execution_count": 3,
   "metadata": {
    "scrolled": false
   },
   "outputs": [
    {
     "name": "stdout",
     "output_type": "stream",
     "text": [
      "<class 'pandas.core.frame.DataFrame'>\n",
      "RangeIndex: 3000 entries, 0 to 2999\n",
      "Data columns (total 6 columns):\n",
      " #   Column             Non-Null Count  Dtype         \n",
      "---  ------             --------------  -----         \n",
      " 0   release_date       2999 non-null   datetime64[ns]\n",
      " 1   release_date_int   3000 non-null   int64         \n",
      " 2   release_date_text  3000 non-null   object        \n",
      " 3   year               3000 non-null   int64         \n",
      " 4   month              3000 non-null   int64         \n",
      " 5   day                3000 non-null   int64         \n",
      "dtypes: datetime64[ns](1), int64(4), object(1)\n",
      "memory usage: 140.8+ KB\n"
     ]
    }
   ],
   "source": [
    "#### Importing data - Date read as datetime object\n",
    "imp_data = pd.read_csv(\"C:\\\\Ujjwal\\\\Analytics\\\\Git\\\\Scenario_5\\\\Date_Dataset.csv\", parse_dates = [\"release_date\"])\n",
    "imp_data.info()"
   ]
  },
  {
   "cell_type": "markdown",
   "metadata": {},
   "source": [
    "## Reading the CSV file - Using parse_dates parameter to combine 3 columns into single date field\n",
    "Change the Windows folder location as per your system "
   ]
  },
  {
   "cell_type": "code",
   "execution_count": 4,
   "metadata": {
    "scrolled": false
   },
   "outputs": [
    {
     "name": "stdout",
     "output_type": "stream",
     "text": [
      "<class 'pandas.core.frame.DataFrame'>\n",
      "RangeIndex: 3000 entries, 0 to 2999\n",
      "Data columns (total 4 columns):\n",
      " #   Column             Non-Null Count  Dtype         \n",
      "---  ------             --------------  -----         \n",
      " 0   year_month_day     3000 non-null   datetime64[ns]\n",
      " 1   release_date       2999 non-null   datetime64[ns]\n",
      " 2   release_date_int   3000 non-null   int64         \n",
      " 3   release_date_text  3000 non-null   object        \n",
      "dtypes: datetime64[ns](2), int64(1), object(1)\n",
      "memory usage: 93.9+ KB\n"
     ]
    }
   ],
   "source": [
    "#### Importing data - Date read by combining multiple columns\n",
    "imp_data = pd.read_csv(\"C:\\\\Ujjwal\\\\Analytics\\\\Git\\\\Scenario_5\\\\Date_Dataset.csv\", \n",
    "                       parse_dates = [[\"year\",\"month\",\"day\"],\"release_date\"])\n",
    "imp_data.info()"
   ]
  },
  {
   "cell_type": "markdown",
   "metadata": {},
   "source": [
    "## Reading the CSV file - Using parse_dates parameter to combine 3 columns into single date field & Customize column name\n",
    "Change the Windows folder location as per your system "
   ]
  },
  {
   "cell_type": "code",
   "execution_count": 5,
   "metadata": {
    "scrolled": false
   },
   "outputs": [
    {
     "name": "stdout",
     "output_type": "stream",
     "text": [
      "<class 'pandas.core.frame.DataFrame'>\n",
      "RangeIndex: 3000 entries, 0 to 2999\n",
      "Data columns (total 4 columns):\n",
      " #   Column             Non-Null Count  Dtype         \n",
      "---  ------             --------------  -----         \n",
      " 0   combined_date      3000 non-null   datetime64[ns]\n",
      " 1   release_date       2999 non-null   object        \n",
      " 2   release_date_int   3000 non-null   int64         \n",
      " 3   release_date_text  3000 non-null   object        \n",
      "dtypes: datetime64[ns](1), int64(1), object(2)\n",
      "memory usage: 93.9+ KB\n"
     ]
    }
   ],
   "source": [
    "#### Date read with custom column name\n",
    "imp_data = pd.read_csv(\"C:\\\\Ujjwal\\\\Analytics\\\\Git\\\\Scenario_5\\\\Date_Dataset.csv\", \n",
    "                       parse_dates = {\"combined_date\":[\"year\",\"month\",\"day\"]})\n",
    "imp_data.info()"
   ]
  },
  {
   "cell_type": "markdown",
   "metadata": {},
   "source": [
    "## The missing piece\n",
    "Change the Windows folder location as per your system "
   ]
  },
  {
   "cell_type": "code",
   "execution_count": 6,
   "metadata": {
    "scrolled": true
   },
   "outputs": [
    {
     "name": "stdout",
     "output_type": "stream",
     "text": [
      "<class 'pandas.core.frame.DataFrame'>\n",
      "RangeIndex: 3000 entries, 0 to 2999\n",
      "Data columns (total 4 columns):\n",
      " #   Column             Non-Null Count  Dtype         \n",
      "---  ------             --------------  -----         \n",
      " 0   combined_date      3000 non-null   datetime64[ns]\n",
      " 1   rel_date           2999 non-null   datetime64[ns]\n",
      " 2   release_date_int   3000 non-null   int64         \n",
      " 3   release_date_text  3000 non-null   object        \n",
      "dtypes: datetime64[ns](2), int64(1), object(1)\n",
      "memory usage: 93.9+ KB\n"
     ]
    }
   ],
   "source": [
    "#### Missing piece\n",
    "imp_data = pd.read_csv(\"C:\\\\Ujjwal\\\\Analytics\\\\Git\\\\Scenario_5\\\\Date_Dataset.csv\", \n",
    "                       parse_dates = {\"combined_date\":[\"year\",\"month\",\"day\"], \"rel_date\":[\"release_date\"]})\n",
    "imp_data.info()"
   ]
  },
  {
   "cell_type": "markdown",
   "metadata": {},
   "source": [
    "## Explanation\n",
    "- Using parse_dates parameter to combine 3 columns into single date field & Customize column name. Also, reading the column with data already avaialble in date format (release_date in our case)\n",
    "- When passing the single column name to the dictionary, the key and the value names can't be the same. That's why, we have renamed the **release_date** column to **rel_date**\n",
    "- **The single column should also be passed as a list only.**"
   ]
  }
 ],
 "metadata": {
  "kernelspec": {
   "display_name": "Python 3",
   "language": "python",
   "name": "python3"
  },
  "language_info": {
   "codemirror_mode": {
    "name": "ipython",
    "version": 3
   },
   "file_extension": ".py",
   "mimetype": "text/x-python",
   "name": "python",
   "nbconvert_exporter": "python",
   "pygments_lexer": "ipython3",
   "version": "3.7.1"
  }
 },
 "nbformat": 4,
 "nbformat_minor": 4
}
