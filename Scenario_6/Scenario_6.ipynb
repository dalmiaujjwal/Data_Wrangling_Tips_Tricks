{
 "cells": [
  {
   "cell_type": "markdown",
   "metadata": {},
   "source": [
    "## Importing Pandas Library"
   ]
  },
  {
   "cell_type": "code",
   "execution_count": 1,
   "metadata": {},
   "outputs": [],
   "source": [
    "import pandas as pd"
   ]
  },
  {
   "cell_type": "markdown",
   "metadata": {},
   "source": [
    "## Reading the CSV file - Plain Vanilla Form\n",
    "Change the Windows folder location as per your system "
   ]
  },
  {
   "cell_type": "code",
   "execution_count": 2,
   "metadata": {
    "scrolled": false
   },
   "outputs": [
    {
     "name": "stdout",
     "output_type": "stream",
     "text": [
      "<class 'pandas.core.frame.DataFrame'>\n",
      "RangeIndex: 3000 entries, 0 to 2999\n",
      "Data columns (total 6 columns):\n",
      " #   Column             Non-Null Count  Dtype \n",
      "---  ------             --------------  ----- \n",
      " 0   release_date       2999 non-null   object\n",
      " 1   release_date_int   3000 non-null   int64 \n",
      " 2   release_date_text  3000 non-null   object\n",
      " 3   year               3000 non-null   int64 \n",
      " 4   month              3000 non-null   int64 \n",
      " 5   day                3000 non-null   int64 \n",
      "dtypes: int64(4), object(2)\n",
      "memory usage: 140.8+ KB\n"
     ]
    }
   ],
   "source": [
    "#### Importing date in vanilla form\n",
    "imp_data = pd.read_csv(\"C:\\\\Ujjwal\\\\Analytics\\\\Git\\\\Scenario_6\\\\Date_Dataset.csv\")\n",
    "imp_data.info()"
   ]
  },
  {
   "cell_type": "markdown",
   "metadata": {},
   "source": [
    "## Converting the column containing the date-time data in text format into a date-time object"
   ]
  },
  {
   "cell_type": "code",
   "execution_count": 3,
   "metadata": {
    "scrolled": true
   },
   "outputs": [
    {
     "name": "stdout",
     "output_type": "stream",
     "text": [
      "<class 'pandas.core.frame.DataFrame'>\n",
      "RangeIndex: 3000 entries, 0 to 2999\n",
      "Data columns (total 7 columns):\n",
      " #   Column                       Non-Null Count  Dtype         \n",
      "---  ------                       --------------  -----         \n",
      " 0   release_date                 2999 non-null   object        \n",
      " 1   release_date_int             3000 non-null   int64         \n",
      " 2   release_date_text            3000 non-null   object        \n",
      " 3   year                         3000 non-null   int64         \n",
      " 4   month                        3000 non-null   int64         \n",
      " 5   day                          3000 non-null   int64         \n",
      " 6   release_date_text_converted  3000 non-null   datetime64[ns]\n",
      "dtypes: datetime64[ns](1), int64(4), object(2)\n",
      "memory usage: 164.2+ KB\n"
     ]
    }
   ],
   "source": [
    "#### Converting text to date\n",
    "imp_data[\"release_date_text_converted\"] = pd.to_datetime(imp_data[\"release_date_text\"], format=\"%Y#%d#%m\")\n",
    "imp_data.info()"
   ]
  },
  {
   "cell_type": "markdown",
   "metadata": {},
   "source": [
    "## Converting the column containing the date-time data in integer format into a date-time object"
   ]
  },
  {
   "cell_type": "code",
   "execution_count": 4,
   "metadata": {
    "scrolled": true
   },
   "outputs": [
    {
     "name": "stdout",
     "output_type": "stream",
     "text": [
      "<class 'pandas.core.frame.DataFrame'>\n",
      "RangeIndex: 3000 entries, 0 to 2999\n",
      "Data columns (total 8 columns):\n",
      " #   Column                       Non-Null Count  Dtype         \n",
      "---  ------                       --------------  -----         \n",
      " 0   release_date                 2999 non-null   object        \n",
      " 1   release_date_int             3000 non-null   int64         \n",
      " 2   release_date_text            3000 non-null   object        \n",
      " 3   year                         3000 non-null   int64         \n",
      " 4   month                        3000 non-null   int64         \n",
      " 5   day                          3000 non-null   int64         \n",
      " 6   release_date_text_converted  3000 non-null   datetime64[ns]\n",
      " 7   release_date_int_converted   3000 non-null   datetime64[ns]\n",
      "dtypes: datetime64[ns](2), int64(4), object(2)\n",
      "memory usage: 187.6+ KB\n"
     ]
    }
   ],
   "source": [
    "#### Converting integer form to date\n",
    "imp_data[\"release_date_int_converted\"] = pd.to_datetime(imp_data[\"release_date_int\"], format=\"%Y%m%d\")\n",
    "imp_data.info()"
   ]
  },
  {
   "cell_type": "markdown",
   "metadata": {},
   "source": [
    "## Manually adding a new column with a constant date value to the data frame"
   ]
  },
  {
   "cell_type": "code",
   "execution_count": 5,
   "metadata": {
    "scrolled": true
   },
   "outputs": [
    {
     "name": "stdout",
     "output_type": "stream",
     "text": [
      "<class 'pandas.core.frame.DataFrame'>\n",
      "RangeIndex: 3000 entries, 0 to 2999\n",
      "Data columns (total 9 columns):\n",
      " #   Column                       Non-Null Count  Dtype         \n",
      "---  ------                       --------------  -----         \n",
      " 0   release_date                 2999 non-null   object        \n",
      " 1   release_date_int             3000 non-null   int64         \n",
      " 2   release_date_text            3000 non-null   object        \n",
      " 3   year                         3000 non-null   int64         \n",
      " 4   month                        3000 non-null   int64         \n",
      " 5   day                          3000 non-null   int64         \n",
      " 6   release_date_text_converted  3000 non-null   datetime64[ns]\n",
      " 7   release_date_int_converted   3000 non-null   datetime64[ns]\n",
      " 8   new_constant_date_column     3000 non-null   datetime64[ns]\n",
      "dtypes: datetime64[ns](3), int64(4), object(2)\n",
      "memory usage: 211.1+ KB\n"
     ]
    }
   ],
   "source": [
    "#### Manually creating new column with constant date\n",
    "imp_data[\"new_constant_date_column\"] = pd.to_datetime(\"1985-17-03\", format=\"%Y-%d-%m\")\n",
    "imp_data.info()"
   ]
  },
  {
   "cell_type": "code",
   "execution_count": 6,
   "metadata": {},
   "outputs": [
    {
     "data": {
      "text/html": [
       "<div>\n",
       "<style scoped>\n",
       "    .dataframe tbody tr th:only-of-type {\n",
       "        vertical-align: middle;\n",
       "    }\n",
       "\n",
       "    .dataframe tbody tr th {\n",
       "        vertical-align: top;\n",
       "    }\n",
       "\n",
       "    .dataframe thead th {\n",
       "        text-align: right;\n",
       "    }\n",
       "</style>\n",
       "<table border=\"1\" class=\"dataframe\">\n",
       "  <thead>\n",
       "    <tr style=\"text-align: right;\">\n",
       "      <th></th>\n",
       "      <th>release_date</th>\n",
       "      <th>release_date_int</th>\n",
       "      <th>release_date_text</th>\n",
       "      <th>year</th>\n",
       "      <th>month</th>\n",
       "      <th>day</th>\n",
       "      <th>release_date_text_converted</th>\n",
       "      <th>release_date_int_converted</th>\n",
       "      <th>new_constant_date_column</th>\n",
       "    </tr>\n",
       "  </thead>\n",
       "  <tbody>\n",
       "    <tr>\n",
       "      <th>0</th>\n",
       "      <td>NaN</td>\n",
       "      <td>20190317</td>\n",
       "      <td>2019#17#03</td>\n",
       "      <td>2019</td>\n",
       "      <td>3</td>\n",
       "      <td>17</td>\n",
       "      <td>2019-03-17</td>\n",
       "      <td>2019-03-17</td>\n",
       "      <td>1985-03-17</td>\n",
       "    </tr>\n",
       "    <tr>\n",
       "      <th>1</th>\n",
       "      <td>8/6/2004</td>\n",
       "      <td>20040806</td>\n",
       "      <td>2004#06#08</td>\n",
       "      <td>2004</td>\n",
       "      <td>8</td>\n",
       "      <td>6</td>\n",
       "      <td>2004-08-06</td>\n",
       "      <td>2004-08-06</td>\n",
       "      <td>1985-03-17</td>\n",
       "    </tr>\n",
       "    <tr>\n",
       "      <th>2</th>\n",
       "      <td>10/10/2014</td>\n",
       "      <td>20141010</td>\n",
       "      <td>2014#10#10</td>\n",
       "      <td>2014</td>\n",
       "      <td>10</td>\n",
       "      <td>10</td>\n",
       "      <td>2014-10-10</td>\n",
       "      <td>2014-10-10</td>\n",
       "      <td>1985-03-17</td>\n",
       "    </tr>\n",
       "    <tr>\n",
       "      <th>3</th>\n",
       "      <td>3/9/2012</td>\n",
       "      <td>20120309</td>\n",
       "      <td>2012#09#03</td>\n",
       "      <td>2012</td>\n",
       "      <td>3</td>\n",
       "      <td>9</td>\n",
       "      <td>2012-03-09</td>\n",
       "      <td>2012-03-09</td>\n",
       "      <td>1985-03-17</td>\n",
       "    </tr>\n",
       "    <tr>\n",
       "      <th>4</th>\n",
       "      <td>2/5/2009</td>\n",
       "      <td>20090205</td>\n",
       "      <td>2009#05#02</td>\n",
       "      <td>2009</td>\n",
       "      <td>2</td>\n",
       "      <td>5</td>\n",
       "      <td>2009-02-05</td>\n",
       "      <td>2009-02-05</td>\n",
       "      <td>1985-03-17</td>\n",
       "    </tr>\n",
       "  </tbody>\n",
       "</table>\n",
       "</div>"
      ],
      "text/plain": [
       "  release_date  release_date_int release_date_text  year  month  day  \\\n",
       "0          NaN          20190317        2019#17#03  2019      3   17   \n",
       "1     8/6/2004          20040806        2004#06#08  2004      8    6   \n",
       "2   10/10/2014          20141010        2014#10#10  2014     10   10   \n",
       "3     3/9/2012          20120309        2012#09#03  2012      3    9   \n",
       "4     2/5/2009          20090205        2009#05#02  2009      2    5   \n",
       "\n",
       "  release_date_text_converted release_date_int_converted  \\\n",
       "0                  2019-03-17                 2019-03-17   \n",
       "1                  2004-08-06                 2004-08-06   \n",
       "2                  2014-10-10                 2014-10-10   \n",
       "3                  2012-03-09                 2012-03-09   \n",
       "4                  2009-02-05                 2009-02-05   \n",
       "\n",
       "  new_constant_date_column  \n",
       "0               1985-03-17  \n",
       "1               1985-03-17  \n",
       "2               1985-03-17  \n",
       "3               1985-03-17  \n",
       "4               1985-03-17  "
      ]
     },
     "execution_count": 6,
     "metadata": {},
     "output_type": "execute_result"
    }
   ],
   "source": [
    "imp_data.head()"
   ]
  },
  {
   "cell_type": "markdown",
   "metadata": {},
   "source": [
    "## Combining 3 date components into a single date column"
   ]
  },
  {
   "cell_type": "code",
   "execution_count": 7,
   "metadata": {
    "scrolled": true
   },
   "outputs": [
    {
     "name": "stdout",
     "output_type": "stream",
     "text": [
      "<class 'pandas.core.frame.DataFrame'>\n",
      "RangeIndex: 3000 entries, 0 to 2999\n",
      "Data columns (total 10 columns):\n",
      " #   Column                       Non-Null Count  Dtype         \n",
      "---  ------                       --------------  -----         \n",
      " 0   release_date                 2999 non-null   object        \n",
      " 1   release_date_int             3000 non-null   int64         \n",
      " 2   release_date_text            3000 non-null   object        \n",
      " 3   year                         3000 non-null   int64         \n",
      " 4   month                        3000 non-null   int64         \n",
      " 5   day                          3000 non-null   int64         \n",
      " 6   release_date_text_converted  3000 non-null   datetime64[ns]\n",
      " 7   release_date_int_converted   3000 non-null   datetime64[ns]\n",
      " 8   new_constant_date_column     3000 non-null   datetime64[ns]\n",
      " 9   combined_date                3000 non-null   datetime64[ns]\n",
      "dtypes: datetime64[ns](4), int64(4), object(2)\n",
      "memory usage: 234.5+ KB\n"
     ]
    }
   ],
   "source": [
    "#### Solution to problem. Combining date components to single date column\n",
    "imp_data[\"combined_date\"] = pd.to_datetime(imp_data[[\"year\", \"month\", \"day\"]])\n",
    "imp_data.info()"
   ]
  },
  {
   "cell_type": "markdown",
   "metadata": {},
   "source": [
    "## Explanation\n",
    "- Notice that the three columns are passed in the form of a dataframe.\n",
    "- The only **caution we should take is to ensure that the column names are exactly referred to as \"year\", \"month\" & \"day\" only. Otherwise, the conversion will not be successful**."
   ]
  }
 ],
 "metadata": {
  "kernelspec": {
   "display_name": "Python 3",
   "language": "python",
   "name": "python3"
  },
  "language_info": {
   "codemirror_mode": {
    "name": "ipython",
    "version": 3
   },
   "file_extension": ".py",
   "mimetype": "text/x-python",
   "name": "python",
   "nbconvert_exporter": "python",
   "pygments_lexer": "ipython3",
   "version": "3.7.1"
  }
 },
 "nbformat": 4,
 "nbformat_minor": 4
}
