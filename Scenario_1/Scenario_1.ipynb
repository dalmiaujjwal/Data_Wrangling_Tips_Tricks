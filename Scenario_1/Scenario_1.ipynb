{
 "cells": [
  {
   "cell_type": "markdown",
   "metadata": {},
   "source": [
    "## Importing Pandas Library"
   ]
  },
  {
   "cell_type": "code",
   "execution_count": 1,
   "metadata": {},
   "outputs": [],
   "source": [
    "import pandas as pd"
   ]
  },
  {
   "cell_type": "markdown",
   "metadata": {},
   "source": [
    "## Importing data file in the Python environment\n",
    "Change the Windows folder location as per your system "
   ]
  },
  {
   "cell_type": "code",
   "execution_count": 2,
   "metadata": {},
   "outputs": [
    {
     "data": {
      "text/html": [
       "<div>\n",
       "<style scoped>\n",
       "    .dataframe tbody tr th:only-of-type {\n",
       "        vertical-align: middle;\n",
       "    }\n",
       "\n",
       "    .dataframe tbody tr th {\n",
       "        vertical-align: top;\n",
       "    }\n",
       "\n",
       "    .dataframe thead th {\n",
       "        text-align: right;\n",
       "    }\n",
       "</style>\n",
       "<table border=\"1\" class=\"dataframe\">\n",
       "  <thead>\n",
       "    <tr style=\"text-align: right;\">\n",
       "      <th></th>\n",
       "      <th>Model</th>\n",
       "      <th>Actual MPG</th>\n",
       "      <th>Cylinders</th>\n",
       "      <th>Horsepower</th>\n",
       "      <th>Weight</th>\n",
       "      <th>Year</th>\n",
       "      <th>Origin</th>\n",
       "    </tr>\n",
       "  </thead>\n",
       "  <tbody>\n",
       "    <tr>\n",
       "      <th>0</th>\n",
       "      <td>amc ambassador dpl</td>\n",
       "      <td>15.0</td>\n",
       "      <td>8</td>\n",
       "      <td>190</td>\n",
       "      <td>3850</td>\n",
       "      <td>70</td>\n",
       "      <td>American</td>\n",
       "    </tr>\n",
       "    <tr>\n",
       "      <th>1</th>\n",
       "      <td>amc gremlin</td>\n",
       "      <td>21.0</td>\n",
       "      <td>6</td>\n",
       "      <td>90</td>\n",
       "      <td>2648</td>\n",
       "      <td>70</td>\n",
       "      <td>American</td>\n",
       "    </tr>\n",
       "  </tbody>\n",
       "</table>\n",
       "</div>"
      ],
      "text/plain": [
       "                Model   Actual MPG  Cylinders  Horsepower  Weight  Year  \\\n",
       "0  amc ambassador dpl         15.0          8         190    3850    70   \n",
       "1         amc gremlin         21.0          6          90    2648    70   \n",
       "\n",
       "     Origin  \n",
       "0  American  \n",
       "1  American  "
      ]
     },
     "execution_count": 2,
     "metadata": {},
     "output_type": "execute_result"
    }
   ],
   "source": [
    "imp_data = pd.read_csv(\"C:\\\\Ujjwal\\\\Analytics\\\\Git\\\\Data_Wrangling_Tips_Tricks\\\\Scenario_2\\\\cars.csv\")\n",
    "imp_data.head(2)"
   ]
  },
  {
   "cell_type": "markdown",
   "metadata": {},
   "source": [
    "## Groupby dataframe on the basis of Year"
   ]
  },
  {
   "cell_type": "code",
   "execution_count": 3,
   "metadata": {},
   "outputs": [],
   "source": [
    "groupby_df = imp_data.groupby(\"Year\")"
   ]
  },
  {
   "cell_type": "markdown",
   "metadata": {},
   "source": [
    "##### Checking the components of groupby object (only 2 rows and 2 columns of dataframe slice are shown)  "
   ]
  },
  {
   "cell_type": "code",
   "execution_count": 5,
   "metadata": {},
   "outputs": [
    {
     "name": "stdout",
     "output_type": "stream",
     "text": [
      "Name of the group is 70\n",
      "                Model   Actual MPG\n",
      "0  amc ambassador dpl         15.0\n",
      "1         amc gremlin         21.0\n",
      "Name of the group is 71\n",
      "                         Model   Actual MPG\n",
      "29                 amc gremlin         19.0\n",
      "30  amc hornet sportabout (sw)         18.0\n",
      "Name of the group is 72\n",
      "                 Model   Actual MPG\n",
      "56  amc ambassador sst         17.0\n",
      "57    amc matador (sw)         15.0\n",
      "Name of the group is 73\n",
      "                      Model   Actual MPG\n",
      "84  amc ambassador brougham         13.0\n",
      "85              amc gremlin         18.0\n",
      "Name of the group is 74\n",
      "           Model   Actual MPG\n",
      "124   amc hornet         19.0\n",
      "125  amc matador         16.0\n",
      "Name of the group is 75\n",
      "           Model   Actual MPG\n",
      "150  amc gremlin         20.0\n",
      "151  amc matador         15.0\n",
      "Name of the group is 76\n",
      "           Model   Actual MPG\n",
      "180   amc hornet         22.5\n",
      "181  amc matador         15.5\n",
      "Name of the group is 77\n",
      "                       Model   Actual MPG\n",
      "214  buick opel isuzu deluxe         30.0\n",
      "215            buick skylark         20.5\n",
      "Name of the group is 78\n",
      "               Model   Actual MPG\n",
      "242      amc concord         19.4\n",
      "243  amc concord d/l         18.1\n",
      "Name of the group is 79\n",
      "                Model   Actual MPG\n",
      "278  amc concord dl 6         20.2\n",
      "279     amc spirit dl         27.4\n",
      "Name of the group is 80\n",
      "                  Model   Actual MPG\n",
      "307         amc concord         24.3\n",
      "308  chevrolet chevette         32.1\n",
      "Name of the group is 81\n",
      "             Model   Actual MPG\n",
      "334  buick century         22.4\n",
      "335  buick skylark         26.6\n",
      "Name of the group is 82\n",
      "                     Model   Actual MPG\n",
      "362  buick century limited         25.0\n",
      "363       chevrolet camaro         27.0\n"
     ]
    }
   ],
   "source": [
    "for name, df in groupby_df:\n",
    "    print(f\"Name of the group is {name}\")\n",
    "    print(df.iloc[:2,:2])"
   ]
  },
  {
   "cell_type": "markdown",
   "metadata": {},
   "source": [
    "## Convert the groupby object in to tuple"
   ]
  },
  {
   "cell_type": "code",
   "execution_count": 6,
   "metadata": {},
   "outputs": [],
   "source": [
    "tuple_groupby_df = tuple(groupby_df)"
   ]
  },
  {
   "cell_type": "code",
   "execution_count": 7,
   "metadata": {},
   "outputs": [
    {
     "name": "stdout",
     "output_type": "stream",
     "text": [
      "(70,                            Model   Actual MPG  Cylinders  Horsepower  Weight  \\\n",
      "0             amc ambassador dpl         15.0          8         190    3850   \n",
      "1                    amc gremlin         21.0          6          90    2648   \n",
      "2                     amc hornet         18.0          6          97    2774   \n",
      "3                  amc rebel sst         16.0          8         150    3433   \n",
      "4        buick estate wagon (sw)         14.0          8         225    3086   \n",
      "5              buick skylark 320         15.0          8         165    3693   \n",
      "6      chevrolet chevelle malibu         18.0          8         130    3504   \n",
      "7               chevrolet impala         14.0          8         220    4354   \n",
      "8          chevrolet monte carlo         15.0          8         150    3761   \n",
      "9                      chevy c20         10.0          8         200    4376   \n",
      "10           dodge challenger se         15.0          8         170    3563   \n",
      "11                    dodge d200         11.0          8         210    4382   \n",
      "12                     ford f250         10.0          8         215    4615   \n",
      "13              ford galaxie 500         15.0          8         198    4341   \n",
      "14                 ford maverick         21.0          6          85    2587   \n",
      "15                   ford torino         17.0          8         140    3449   \n",
      "16                      hi 1200d          9.0          8         193    4732   \n",
      "17            plymouth 'cuda 340         14.0          8         160    3609   \n",
      "18               plymouth duster         22.0          6          95    2833   \n",
      "19             plymouth fury iii         14.0          8         215    4312   \n",
      "20            plymouth satellite         18.0          8         150    3436   \n",
      "21              pontiac catalina         14.0          8         225    4425   \n",
      "22                   audi 100 ls         24.0          4          90    2430   \n",
      "23                      bmw 2002         26.0          4         113    2234   \n",
      "24                   peugeot 504         25.0          4          87    2672   \n",
      "25                      saab 99e         25.0          4          95    2375   \n",
      "26  volkswagen 1131 deluxe sedan         26.0          4          46    1835   \n",
      "27                  datsun pl510         27.0          4          88    2130   \n",
      "28         toyota corona mark ii         24.0          4          95    2372   \n",
      "\n",
      "    Year    Origin  \n",
      "0     70  American  \n",
      "1     70  American  \n",
      "2     70  American  \n",
      "3     70  American  \n",
      "4     70  American  \n",
      "5     70  American  \n",
      "6     70  American  \n",
      "7     70  American  \n",
      "8     70  American  \n",
      "9     70  American  \n",
      "10    70  American  \n",
      "11    70  American  \n",
      "12    70  American  \n",
      "13    70  American  \n",
      "14    70  American  \n",
      "15    70  American  \n",
      "16    70  American  \n",
      "17    70  American  \n",
      "18    70  American  \n",
      "19    70  American  \n",
      "20    70  American  \n",
      "21    70  American  \n",
      "22    70  European  \n",
      "23    70  European  \n",
      "24    70  European  \n",
      "25    70  European  \n",
      "26    70  European  \n",
      "27    70  Japanese  \n",
      "28    70  Japanese  )\n"
     ]
    }
   ],
   "source": [
    "print(tuple_groupby_df[0])"
   ]
  },
  {
   "cell_type": "markdown",
   "metadata": {},
   "source": [
    "## Convert the tuple object in to a dictionary object"
   ]
  },
  {
   "cell_type": "code",
   "execution_count": 8,
   "metadata": {},
   "outputs": [
    {
     "data": {
      "text/html": [
       "<div>\n",
       "<style scoped>\n",
       "    .dataframe tbody tr th:only-of-type {\n",
       "        vertical-align: middle;\n",
       "    }\n",
       "\n",
       "    .dataframe tbody tr th {\n",
       "        vertical-align: top;\n",
       "    }\n",
       "\n",
       "    .dataframe thead th {\n",
       "        text-align: right;\n",
       "    }\n",
       "</style>\n",
       "<table border=\"1\" class=\"dataframe\">\n",
       "  <thead>\n",
       "    <tr style=\"text-align: right;\">\n",
       "      <th></th>\n",
       "      <th>Model</th>\n",
       "      <th>Actual MPG</th>\n",
       "      <th>Cylinders</th>\n",
       "      <th>Horsepower</th>\n",
       "      <th>Weight</th>\n",
       "      <th>Year</th>\n",
       "      <th>Origin</th>\n",
       "    </tr>\n",
       "  </thead>\n",
       "  <tbody>\n",
       "    <tr>\n",
       "      <th>307</th>\n",
       "      <td>amc concord</td>\n",
       "      <td>24.3</td>\n",
       "      <td>4</td>\n",
       "      <td>90</td>\n",
       "      <td>3003</td>\n",
       "      <td>80</td>\n",
       "      <td>American</td>\n",
       "    </tr>\n",
       "    <tr>\n",
       "      <th>308</th>\n",
       "      <td>chevrolet chevette</td>\n",
       "      <td>32.1</td>\n",
       "      <td>4</td>\n",
       "      <td>70</td>\n",
       "      <td>2120</td>\n",
       "      <td>80</td>\n",
       "      <td>American</td>\n",
       "    </tr>\n",
       "    <tr>\n",
       "      <th>309</th>\n",
       "      <td>chevrolet citation</td>\n",
       "      <td>28.0</td>\n",
       "      <td>4</td>\n",
       "      <td>90</td>\n",
       "      <td>2678</td>\n",
       "      <td>80</td>\n",
       "      <td>American</td>\n",
       "    </tr>\n",
       "    <tr>\n",
       "      <th>310</th>\n",
       "      <td>dodge aspen</td>\n",
       "      <td>19.1</td>\n",
       "      <td>6</td>\n",
       "      <td>90</td>\n",
       "      <td>3381</td>\n",
       "      <td>80</td>\n",
       "      <td>American</td>\n",
       "    </tr>\n",
       "    <tr>\n",
       "      <th>311</th>\n",
       "      <td>dodge colt</td>\n",
       "      <td>27.9</td>\n",
       "      <td>4</td>\n",
       "      <td>105</td>\n",
       "      <td>2800</td>\n",
       "      <td>80</td>\n",
       "      <td>American</td>\n",
       "    </tr>\n",
       "  </tbody>\n",
       "</table>\n",
       "</div>"
      ],
      "text/plain": [
       "                  Model   Actual MPG  Cylinders  Horsepower  Weight  Year  \\\n",
       "307         amc concord         24.3          4          90    3003    80   \n",
       "308  chevrolet chevette         32.1          4          70    2120    80   \n",
       "309  chevrolet citation         28.0          4          90    2678    80   \n",
       "310         dodge aspen         19.1          6          90    3381    80   \n",
       "311          dodge colt         27.9          4         105    2800    80   \n",
       "\n",
       "       Origin  \n",
       "307  American  \n",
       "308  American  \n",
       "309  American  \n",
       "310  American  \n",
       "311  American  "
      ]
     },
     "execution_count": 8,
     "metadata": {},
     "output_type": "execute_result"
    }
   ],
   "source": [
    "dictionary_tuple_groupby_df = dict(tuple_groupby_df)\n",
    "dictionary_tuple_groupby_df[80].head()"
   ]
  },
  {
   "cell_type": "markdown",
   "metadata": {},
   "source": [
    "## Solution in Single Line"
   ]
  },
  {
   "cell_type": "code",
   "execution_count": 9,
   "metadata": {},
   "outputs": [
    {
     "data": {
      "text/html": [
       "<div>\n",
       "<style scoped>\n",
       "    .dataframe tbody tr th:only-of-type {\n",
       "        vertical-align: middle;\n",
       "    }\n",
       "\n",
       "    .dataframe tbody tr th {\n",
       "        vertical-align: top;\n",
       "    }\n",
       "\n",
       "    .dataframe thead th {\n",
       "        text-align: right;\n",
       "    }\n",
       "</style>\n",
       "<table border=\"1\" class=\"dataframe\">\n",
       "  <thead>\n",
       "    <tr style=\"text-align: right;\">\n",
       "      <th></th>\n",
       "      <th>Model</th>\n",
       "      <th>Actual MPG</th>\n",
       "      <th>Cylinders</th>\n",
       "      <th>Horsepower</th>\n",
       "      <th>Weight</th>\n",
       "      <th>Year</th>\n",
       "      <th>Origin</th>\n",
       "    </tr>\n",
       "  </thead>\n",
       "  <tbody>\n",
       "    <tr>\n",
       "      <th>307</th>\n",
       "      <td>amc concord</td>\n",
       "      <td>24.3</td>\n",
       "      <td>4</td>\n",
       "      <td>90</td>\n",
       "      <td>3003</td>\n",
       "      <td>80</td>\n",
       "      <td>American</td>\n",
       "    </tr>\n",
       "    <tr>\n",
       "      <th>308</th>\n",
       "      <td>chevrolet chevette</td>\n",
       "      <td>32.1</td>\n",
       "      <td>4</td>\n",
       "      <td>70</td>\n",
       "      <td>2120</td>\n",
       "      <td>80</td>\n",
       "      <td>American</td>\n",
       "    </tr>\n",
       "    <tr>\n",
       "      <th>309</th>\n",
       "      <td>chevrolet citation</td>\n",
       "      <td>28.0</td>\n",
       "      <td>4</td>\n",
       "      <td>90</td>\n",
       "      <td>2678</td>\n",
       "      <td>80</td>\n",
       "      <td>American</td>\n",
       "    </tr>\n",
       "    <tr>\n",
       "      <th>310</th>\n",
       "      <td>dodge aspen</td>\n",
       "      <td>19.1</td>\n",
       "      <td>6</td>\n",
       "      <td>90</td>\n",
       "      <td>3381</td>\n",
       "      <td>80</td>\n",
       "      <td>American</td>\n",
       "    </tr>\n",
       "    <tr>\n",
       "      <th>311</th>\n",
       "      <td>dodge colt</td>\n",
       "      <td>27.9</td>\n",
       "      <td>4</td>\n",
       "      <td>105</td>\n",
       "      <td>2800</td>\n",
       "      <td>80</td>\n",
       "      <td>American</td>\n",
       "    </tr>\n",
       "  </tbody>\n",
       "</table>\n",
       "</div>"
      ],
      "text/plain": [
       "                  Model   Actual MPG  Cylinders  Horsepower  Weight  Year  \\\n",
       "307         amc concord         24.3          4          90    3003    80   \n",
       "308  chevrolet chevette         32.1          4          70    2120    80   \n",
       "309  chevrolet citation         28.0          4          90    2678    80   \n",
       "310         dodge aspen         19.1          6          90    3381    80   \n",
       "311          dodge colt         27.9          4         105    2800    80   \n",
       "\n",
       "       Origin  \n",
       "307  American  \n",
       "308  American  \n",
       "309  American  \n",
       "310  American  \n",
       "311  American  "
      ]
     },
     "execution_count": 9,
     "metadata": {},
     "output_type": "execute_result"
    }
   ],
   "source": [
    "final_dict = dict(tuple(imp_data.groupby(\"Year\")))\n",
    "final_dict[80].head()"
   ]
  },
  {
   "cell_type": "markdown",
   "metadata": {},
   "source": [
    "## Comparing manual variable creation with dictionary objects"
   ]
  },
  {
   "cell_type": "code",
   "execution_count": 10,
   "metadata": {},
   "outputs": [
    {
     "data": {
      "text/plain": [
       "(29, 7)"
      ]
     },
     "execution_count": 10,
     "metadata": {},
     "output_type": "execute_result"
    }
   ],
   "source": [
    "#### Manual creation of variables (slicing cars data for year 70)\n",
    "cars_70 = imp_data[imp_data[\"Year\"] == 70]\n",
    "\n",
    "#### Checking the shape of the sliced variable\n",
    "cars_70.shape"
   ]
  },
  {
   "cell_type": "code",
   "execution_count": 11,
   "metadata": {},
   "outputs": [
    {
     "data": {
      "text/plain": [
       "(29, 7)"
      ]
     },
     "execution_count": 11,
     "metadata": {},
     "output_type": "execute_result"
    }
   ],
   "source": [
    "#### Checking the shape using the dictionary we have created\n",
    "dictionary_tuple_groupby_df[70].shape"
   ]
  }
 ],
 "metadata": {
  "kernelspec": {
   "display_name": "Python 3",
   "language": "python",
   "name": "python3"
  },
  "language_info": {
   "codemirror_mode": {
    "name": "ipython",
    "version": 3
   },
   "file_extension": ".py",
   "mimetype": "text/x-python",
   "name": "python",
   "nbconvert_exporter": "python",
   "pygments_lexer": "ipython3",
   "version": "3.7.1"
  }
 },
 "nbformat": 4,
 "nbformat_minor": 4
}
